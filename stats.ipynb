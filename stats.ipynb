{
 "cells": [
  {
   "cell_type": "code",
   "execution_count": null,
   "metadata": {
    "collapsed": false
   },
   "outputs": [],
   "source": [
    "\"\"\"\n",
    "Created on Mon Feb 26 13:37:11 2018\n",
    "\n",
    "@author: HP\n",
    "\"\"\"\n",
    "import pandas as pd\n",
    "import csv\n",
    "import matplotlib.pyplot as plt\n",
    "\n",
    "rows = []\n",
    "#csv_header = ['user', 'item', 'time', 'rating', 'review']\n",
    "#frame_header = ['user', 'item', 'rating', 'review']\n",
    "\n",
    "with open('Manual_Annotations_Sent.csv', 'rt') as f_input:\n",
    "    for row in csv.DictReader(f_input, delimiter='|', fieldnames=['sent','S_method'], skipinitialspace=True):\n",
    "        wordCount = len(str(row['sent']).split())\n",
    "        rows.append([row['sent'], row['S_method'], wordCount])\n",
    "        \n",
    "frame = pd.DataFrame(rows, columns=['sent','S_method','word_count'])\n",
    "print(frame)\n",
    "frame['S_method'].value_counts().plot(kind='bar')\n",
    "\n",
    "plt.figure()\n",
    "plt.hist(frame['word_count'], 50)\n",
    "plt.xlabel('Sequence Length')\n",
    "plt.ylabel('Frequency')\n",
    "plt.axis([0, 200, 0, 100])\n",
    "plt.show()"
   ]
  }
 ],
 "metadata": {},
 "nbformat": 4,
 "nbformat_minor": 2
}
